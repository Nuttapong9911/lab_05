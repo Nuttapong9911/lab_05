{
  "nbformat": 4,
  "nbformat_minor": 0,
  "metadata": {
    "colab": {
      "provenance": [],
      "collapsed_sections": [],
      "include_colab_link": true
    },
    "kernelspec": {
      "name": "python3",
      "display_name": "Python 3"
    },
    "language_info": {
      "name": "python"
    }
  },
  "cells": [
    {
      "cell_type": "markdown",
      "metadata": {
        "id": "view-in-github",
        "colab_type": "text"
      },
      "source": [
        "<a href=\"https://colab.research.google.com/github/Nuttapong9911/lab_05/blob/main/Hand_signs_detecting.ipynb\" target=\"_parent\"><img src=\"https://colab.research.google.com/assets/colab-badge.svg\" alt=\"Open In Colab\"/></a>"
      ]
    },
    {
      "cell_type": "markdown",
      "source": [
        "# **<font color='rgb(248, 113, 113)'>Project:</font> <font color='pink'>Hand signs detecting. ✋ </font>**\n",
        "\n",
        "เป็นโปรเจคเกี่ยวกับการทํานายภาษามือ โดยจะให้โมเดลเรียนรู้ภาษามือหรือลักษณะของมือรูปแบบ ต่างๆ ผ่านการป้อนรูปภาพที่เป็นภาษามือรูปแบบต่างๆ เพื่อให้โมเดลสามารถ ตรวจจับและจําแนก ลักษณะท่าทางของมือได้ และ โปรเจคของกลุ่มเราสามารถนาไปใช้ต่อยอดได้ในหลายๆเรื่อง ตัวอย่าง เช่น การสร้างระบบสังการอัตโนมัติทคอยรับคําสั่งจากท่าทางของเราเพื่อทําการปิดไฟห้องเมื่อจะนอน (ไม่ต้องลุกไปปัดเอง) และน่าไปสร้างเป็นแอพพลิเคชั่น ที่สามารถช่วยให้คนปกติทั่วไปสามารถคุยกับผู้ พิการทางการได้ยินได้ง่ายขึ้น"
      ],
      "metadata": {
        "id": "onlGqfL-p6el"
      }
    },
    {
      "cell_type": "markdown",
      "source": [
        "# **Import libraries**"
      ],
      "metadata": {
        "id": "jFzAT8yXWzEY"
      }
    },
    {
      "cell_type": "code",
      "execution_count": null,
      "metadata": {
        "id": "skEPNEQXptP_"
      },
      "outputs": [],
      "source": [
        "# import numpy as np\n",
        "# import torch\n",
        "# import torch.nn as nn\n",
        "# import torch.nn.functional as F\n",
        "# from torch.utils.data import random_split, DataLoader\n",
        "# import torch.optim as optim\n",
        "# import torchvision\n",
        "%reset -f\n",
        "import numpy as np\n",
        "import matplotlib.pyplot as plt\n",
        "import torch\n",
        "import torch.nn as nn\n",
        "import torch.nn.functional as F\n",
        "from torch.utils.data import random_split, DataLoader\n",
        "import torch.optim as optim\n",
        "import torchvision\n",
        "from pathlib import Path\n",
        "\n",
        "import os\n",
        "from skimage import io, img_as_float\n",
        "\n",
        "# from __future__ import print_function\n",
        "import argparse\n",
        "from torchvision import datasets, transforms\n",
        "from torch.optim.lr_scheduler import StepLR"
      ]
    },
    {
      "cell_type": "markdown",
      "source": [
        "## **Load Data From Kaggle**\n",
        "Kaggle's Link: [hand-signs-images](https://www.kaggle.com/datasets/ash2703/handsignimages)"
      ],
      "metadata": {
        "id": "YZEB0cLUAPBv"
      }
    },
    {
      "cell_type": "code",
      "source": [
        "! pip install kaggle"
      ],
      "metadata": {
        "id": "ColonHRIAZiP"
      },
      "execution_count": null,
      "outputs": []
    },
    {
      "cell_type": "code",
      "source": [
        "from google.colab import drive\n",
        "drive.mount('/content/drive')"
      ],
      "metadata": {
        "id": "83FUBT-TEjw3",
        "colab": {
          "base_uri": "https://localhost:8080/"
        },
        "outputId": "ce61499a-d4cf-496e-d33e-f4844319eacc"
      },
      "execution_count": null,
      "outputs": [
        {
          "output_type": "stream",
          "name": "stdout",
          "text": [
            "Mounted at /content/drive\n"
          ]
        }
      ]
    },
    {
      "cell_type": "code",
      "source": [
        "! mkdir ~/.kaggle"
      ],
      "metadata": {
        "id": "t_fIlHnpZfSa"
      },
      "execution_count": null,
      "outputs": []
    },
    {
      "cell_type": "code",
      "source": [
        "!cp /content/drive/MyDrive/ColabNotebooks/kaggle.json ~/.kaggle/kaggle.json"
      ],
      "metadata": {
        "id": "24rT6N_RZ5T7"
      },
      "execution_count": null,
      "outputs": []
    },
    {
      "cell_type": "code",
      "source": [
        "! chmod 600 ~/.kaggle/kaggle.json"
      ],
      "metadata": {
        "id": "SfU6KSA1b4Ti"
      },
      "execution_count": null,
      "outputs": []
    },
    {
      "cell_type": "code",
      "source": [
        "! kaggle datasets download ash2703/handsignimages"
      ],
      "metadata": {
        "colab": {
          "base_uri": "https://localhost:8080/"
        },
        "id": "w9p0IXHHcWAC",
        "outputId": "a51ed0c4-fedd-4984-e1a3-f671f7fa69a4"
      },
      "execution_count": null,
      "outputs": [
        {
          "output_type": "stream",
          "name": "stdout",
          "text": [
            "Downloading handsignimages.zip to /content\n",
            "\r  0% 0.00/23.1M [00:00<?, ?B/s]\r 39% 9.00M/23.1M [00:00<00:00, 77.5MB/s]\n",
            "\r100% 23.1M/23.1M [00:00<00:00, 142MB/s] \n"
          ]
        }
      ]
    },
    {
      "cell_type": "code",
      "source": [
        "! unzip handsignimages.zip"
      ],
      "metadata": {
        "id": "o4rjksFwWYo6"
      },
      "execution_count": null,
      "outputs": []
    },
    {
      "cell_type": "markdown",
      "source": [
        "## **Find mean and sd of training data**\n",
        "\n",
        "❌**no need to run again**"
      ],
      "metadata": {
        "id": "jSUFKFlal-i9"
      }
    },
    {
      "cell_type": "code",
      "source": [
        "mean_arr = np.array([])\n",
        "sd_arr = np.array([])\n",
        "\n",
        "for subdir, dirs, files in os.walk('/content/drive/MyDrive/dummy'):\n",
        "    for file in files:\n",
        "        # print (os.path.join(subdir, file))\n",
        "        filepath = subdir + os.sep + file\n",
        "        if filepath.endswith(\".jpg\"):\n",
        "            image = io.imread(filepath)\n",
        "            image = img_as_float(image)\n",
        "            mean_arr = np.append(mean_arr, image)\n",
        "            sd_arr = np.append(sd_arr, image)\n",
        "            # print (filepath)\n"
      ],
      "metadata": {
        "id": "ZFZ3ZLyJgWar"
      },
      "execution_count": null,
      "outputs": []
    },
    {
      "cell_type": "code",
      "source": [
        "print(len(mean_arr))\n",
        "print(len(sd_arr))\n",
        "print(np.mean(mean_arr))\n",
        "print(np.std(sd_arr))\n",
        "x = np.array([np.mean(mean_arr)])\n",
        "print(len(x))\n",
        "y = np.array([np.std(sd_arr)])\n",
        "print(len(y))"
      ],
      "metadata": {
        "id": "_oK_OAGzgXD5"
      },
      "execution_count": null,
      "outputs": []
    },
    {
      "cell_type": "markdown",
      "source": [
        "# Find Dimension for use in Linear\n",
        "❌No need to run"
      ],
      "metadata": {
        "id": "ag1xI4ztKmd0"
      }
    },
    {
      "cell_type": "code",
      "source": [
        "# model1 = nn.Sequential(\n",
        "#     nn.Conv2d(1, 32, kernel_size=3),\n",
        "#     nn.ReLU(),\n",
        "#     nn.MaxPool2d(kernel_size=2),\n",
        "#     nn.Conv2d(32, 64, kernel_size=3),\n",
        "#     nn.ReLU(),\n",
        "#     nn.MaxPool2d(kernel_size=2),\n",
        "#     nn.Dropout(0.25),\n",
        "#     nn.Flatten(),\n",
        "#     # nn.Linear(1600, 128), \n",
        "# )\n",
        "\n",
        "# print('Dimension for fc1: ')\n",
        "# model1(torch.zeros(128,1,28,28)).size()\n",
        "\n",
        "model2 = nn.Sequential(\n",
        "    nn.Conv2d(1, 32, kernel_size=3),\n",
        "    nn.ReLU(),\n",
        "    nn.MaxPool2d(kernel_size=2),\n",
        "    nn.Conv2d(32, 64, kernel_size=3),\n",
        "    nn.ReLU(),\n",
        "    nn.MaxPool2d(kernel_size=2),\n",
        "    nn.Dropout(0.25),\n",
        "    nn.Flatten(),\n",
        "    nn.Linear(1600, 128), \n",
        "    nn.ReLU(),\n",
        "    nn.Dropout(0.5),\n",
        "    # nn.Linear(128, 128), \n",
        ")\n",
        "\n",
        "print('Dimension for fc2: ')\n",
        "model2(torch.zeros(128,1,28,28)).size()"
      ],
      "metadata": {
        "colab": {
          "base_uri": "https://localhost:8080/"
        },
        "id": "g9QlCdB1J57E",
        "outputId": "eb14f53f-7c26-4f85-a518-e3b4d2af4a1f"
      },
      "execution_count": null,
      "outputs": [
        {
          "output_type": "stream",
          "name": "stdout",
          "text": [
            "Dimension for fc2: \n"
          ]
        },
        {
          "output_type": "execute_result",
          "data": {
            "text/plain": [
              "torch.Size([128, 128])"
            ]
          },
          "metadata": {},
          "execution_count": 21
        }
      ]
    },
    {
      "cell_type": "markdown",
      "source": [
        "# **Initial setting**"
      ],
      "metadata": {
        "id": "mcZQrpbSWajv"
      }
    },
    {
      "cell_type": "markdown",
      "source": [
        "- <font color='yellow'>initial device setting</font>"
      ],
      "metadata": {
        "id": "NsyWfrsJg834"
      }
    },
    {
      "cell_type": "code",
      "source": [
        "class Net(nn.Module):\n",
        "    def __init__(self):\n",
        "        super(Net, self).__init__()\n",
        "        self.conv1 = nn.Conv2d(1, 32, 3, 1)\n",
        "        self.conv2 = nn.Conv2d(32, 64, 3, 1)\n",
        "        self.dropout1 = nn.Dropout(0.25)\n",
        "        self.dropout2 = nn.Dropout(0.5)\n",
        "        self.fc1 = nn.Linear(1600, 128)\n",
        "        self.fc2 = nn.Linear(128, 128)\n",
        "\n",
        "    def forward(self, x):\n",
        "        x = self.conv1(x)\n",
        "        x = F.relu(x)\n",
        "        x = F.max_pool2d(x, 2)\n",
        "        x = self.conv2(x)\n",
        "        x = F.relu(x)\n",
        "        x = F.max_pool2d(x, 2)\n",
        "        x = self.dropout1(x)\n",
        "        x = torch.flatten(x, 1)\n",
        "        x = self.fc1(x)\n",
        "        x = F.relu(x)\n",
        "        x = self.dropout2(x)\n",
        "        x = self.fc2(x)\n",
        "        output = F.log_softmax(x, dim=1)\n",
        "        return output"
      ],
      "metadata": {
        "id": "OO_CII0V_YjC"
      },
      "execution_count": null,
      "outputs": []
    },
    {
      "cell_type": "markdown",
      "source": [
        "- <font color='yellow'>initial parameter setting </font>"
      ],
      "metadata": {
        "id": "HX5u7kB6ig4Y"
      }
    },
    {
      "cell_type": "code",
      "source": [
        "args = {\n",
        "    '--tain-batch-size' : 128,\n",
        "    '--test-batch-size' : 128,\n",
        "    '--epochs' : 15,\n",
        "    '--lr' : 0.697,\n",
        "    '--gamma' : 0.7,\n",
        "    '--no-cuda' : True,\n",
        "    '--no-mps' : True,\n",
        "    '--seed' : 1\n",
        "}"
      ],
      "metadata": {
        "id": "RJSnlXfEhdzg"
      },
      "execution_count": null,
      "outputs": []
    },
    {
      "cell_type": "markdown",
      "source": [
        "## **Prepare The Data**"
      ],
      "metadata": {
        "id": "qSs0ToZhsw4S"
      }
    },
    {
      "cell_type": "code",
      "source": [
        "transform = torchvision.transforms.Compose([ \n",
        "                  torchvision.transforms.ToTensor(),\n",
        "                  torchvision.transforms.Normalize((0.6246,), (0.1911,)),\n",
        "                  torchvision.transforms.Grayscale(num_output_channels =1)\n",
        "])\n",
        "\n",
        "ds_train = torchvision.datasets.ImageFolder('/content/Train',\n",
        "                                      transform=transform)\n",
        "\n",
        "ds_test  = torchvision.datasets.ImageFolder('/content/Test',   \n",
        "                                      transform=transform)\n",
        "# print(len(ds_train))\n",
        "\n",
        "ds_train, ds_val = random_split(ds_train, [21964,5491])\n",
        "                                    \n",
        "dl_train = DataLoader(ds_train, batch_size= args['--tain-batch-size'], shuffle=True)\n",
        "dl_val   = DataLoader(ds_val, batch_size= args['--tain-batch-size'])\n",
        "dl_test  = DataLoader(ds_test, batch_size= args['--test-batch-size'])"
      ],
      "metadata": {
        "id": "6Cvn6FXds1ur"
      },
      "execution_count": null,
      "outputs": []
    },
    {
      "cell_type": "markdown",
      "source": [
        "### fix bug: FileNotFoundError: Found no valid file for the classes .ipynb_checkpoints\n",
        "\n",
        "❌ **ถ้าไม่ บัค ก็ไม่ต้องรัน**"
      ],
      "metadata": {
        "id": "yDGw4nlPs9pT"
      }
    },
    {
      "cell_type": "code",
      "source": [
        "! rm -R /content/Train/.ipynb_checkpoints\n",
        "! ls /content/Train \n",
        "! rm -R /content/Test/.ipynb_checkpoints\n",
        "! ls /content/Test"
      ],
      "metadata": {
        "id": "XuT4uaNws-YU"
      },
      "execution_count": null,
      "outputs": []
    },
    {
      "cell_type": "markdown",
      "source": [
        "## Testing batch size, channels, dimensions"
      ],
      "metadata": {
        "id": "lFasekoFtA2L"
      }
    },
    {
      "cell_type": "code",
      "source": [
        "train_features, train_labels = next(iter(dl_train))\n",
        "print(f\"Feature batch shape: {train_features.size()}\")\n",
        "print(f\"Labels batch shape: {train_labels.size()}\")\n",
        "\n",
        "# test if data is loaded correctly\n",
        "img = train_features[1].squeeze()\n",
        "label = train_labels[1]\n",
        "plt.imshow(img, cmap=\"gray\")\n",
        "plt.show()\n",
        "print(f\"Label: {label}\")"
      ],
      "metadata": {
        "colab": {
          "base_uri": "https://localhost:8080/",
          "height": 317
        },
        "id": "AbjNKtZCtK0r",
        "outputId": "243c3e40-a699-4cd9-fc48-e286b783f91a"
      },
      "execution_count": null,
      "outputs": [
        {
          "output_type": "stream",
          "name": "stdout",
          "text": [
            "Feature batch shape: torch.Size([128, 1, 28, 28])\n",
            "Labels batch shape: torch.Size([128])\n"
          ]
        },
        {
          "output_type": "display_data",
          "data": {
            "text/plain": [
              "<Figure size 432x288 with 1 Axes>"
            ],
            "image/png": "[encoded data removed]"
          },
          "metadata": {
            "needs_background": "light"
          }
        },
        {
          "output_type": "stream",
          "name": "stdout",
          "text": [
            "Label: 4\n"
          ]
        }
      ]
    },
    {
      "cell_type": "markdown",
      "source": [
        "# **Train function**"
      ],
      "metadata": {
        "id": "jFwIGXC2YhEP"
      }
    },
    {
      "cell_type": "code",
      "source": [
        "def train(args, model, device, train_loader, optimizer, epoch, loss_fn):\n",
        "    trn_loss = 0.0    \n",
        "    correct = 0\n",
        "\n",
        "    model.train()\n",
        "    for batch_idx, (data, target) in enumerate(train_loader):\n",
        "      # print(f'batch_idx: {batch_idx}, data: {data}, target: {target}')\n",
        "        data, target = data.to(device), target.to(device)\n",
        "        \n",
        "        optimizer.zero_grad()\n",
        "        output = model(data)\n",
        "        loss = loss_fn(output, target)\n",
        "        loss.backward()\n",
        "        optimizer.step()\n",
        "\n",
        "        trn_loss += loss.item()\n",
        "        pred = output.argmax(dim=1, keepdim=True)          \n",
        "        correct += pred.eq(target.view_as(pred)).sum().item()\n",
        "\n",
        "    print(f'Epoch {epoch}: Train loss: {trn_loss/len(dl_train):8.5f}, Train acc: {100*correct/len(dl_train.dataset):6.2f}%')"
      ],
      "metadata": {
        "id": "TuA3x143YgXn"
      },
      "execution_count": null,
      "outputs": []
    },
    {
      "cell_type": "markdown",
      "source": [
        "# **Valid function**"
      ],
      "metadata": {
        "id": "doSfIpyPQOrF"
      }
    },
    {
      "cell_type": "code",
      "source": [
        "def valid(args, model, device, dl_val, loss_fn):  \n",
        "  val_loss = 0.0\n",
        "  val_correct = 0\n",
        "\n",
        "  model.eval()\n",
        "  val_correct = 0\n",
        "  with torch.no_grad():\n",
        "    for data, target in dl_val:\n",
        "        data, target = data.to(device), target.to(device)\n",
        "\n",
        "        output = model(data)                    \n",
        "        loss = loss_fn(output, target)\n",
        "\n",
        "        val_loss += loss.item()\n",
        "\n",
        "        pred = output.argmax(dim=1, keepdim=True)  \n",
        "        val_correct += pred.eq(target.view_as(pred)).sum().item()\n",
        "        \n",
        "    print(f'\\t Valid loss: {val_loss/len(dl_val):8.5f}, Valid acc: {100*val_correct/len(dl_val.dataset):6.2f}%')"
      ],
      "metadata": {
        "id": "M5KaFfJlQscc"
      },
      "execution_count": null,
      "outputs": []
    },
    {
      "cell_type": "markdown",
      "source": [
        "# **Test function**"
      ],
      "metadata": {
        "id": "3DZ8IDvg1l33"
      }
    },
    {
      "cell_type": "code",
      "source": [
        "def test(model, device, dl_test, loss_fn):\n",
        "  model.eval()\n",
        "  test_correct = 0\n",
        "  for data, target in dl_test:\n",
        "      data, target = data.to(device), target.to(device)\n",
        "      # output = nn.functional.one_hot(target, num_classes=24).float()  \n",
        "\n",
        "      output = model(data)                        \n",
        "      pred = output.argmax(dim=1, keepdim=True)  \n",
        "      test_correct += pred.eq(target.view_as(pred)).sum().item() \n",
        "\n",
        "  print(f'\\t Test acc: {100*test_correct/len(dl_test.dataset):6.2f}%')  "
      ],
      "metadata": {
        "id": "FtlcIbmM1pkv"
      },
      "execution_count": null,
      "outputs": []
    },
    {
      "cell_type": "markdown",
      "source": [
        "# **Main function**"
      ],
      "metadata": {
        "id": "WOKgzbyqWQqw"
      }
    },
    {
      "cell_type": "code",
      "source": [
        "use_cuda = not args['--no-cuda'] and torch.cuda.is_available()\n",
        "use_mps = not args['--no-mps'] and torch.backends.mps.is_available()\n",
        "\n",
        "# print(f'use_cuda: {use_cuda} , use_mps: {use_mps}')\n",
        "\n",
        "if use_cuda:\n",
        "    device = torch.device(\"cuda\")\n",
        "elif use_mps:\n",
        "    device = torch.device(\"mps\")\n",
        "else:\n",
        "    device = torch.device(\"cpu\")\n",
        "\n",
        "# print(device)\n",
        "\n",
        "model = Net().to(device)\n",
        "loss_fn = nn.CrossEntropyLoss()\n",
        "optimizer = optim.Adadelta(model.parameters(), lr=args['--lr'])\n",
        "\n",
        "scheduler = StepLR(optimizer, step_size=1, gamma=args['--gamma'])\n",
        "for epoch in range(1, args['--epochs'] + 1):\n",
        "    train(args, model, device, dl_train, optimizer, epoch, loss_fn)\n",
        "    valid(args, model, device, dl_val, loss_fn)\n",
        "    test(model, device, dl_test, loss_fn)\n",
        "    scheduler.step()\n",
        "\n",
        "# if args.save_model:\n",
        "#     torch.save(model.state_dict(), \"mnist_cnn.pt\")\n",
        "\n",
        "\n"
      ],
      "metadata": {
        "id": "jpM6GARhWIFg",
        "colab": {
          "base_uri": "https://localhost:8080/"
        },
        "outputId": "068edf3f-d5e9-4afc-ebbe-2335cb6cee53"
      },
      "execution_count": null,
      "outputs": [
        {
          "output_type": "stream",
          "name": "stdout",
          "text": [
            "Epoch 1: Train loss:  1.45255, Train acc:  56.70%\n",
            "\t Valid loss:  0.29253, Valid acc:  90.69%\n",
            "\t Test acc:  82.35%\n",
            "Epoch 2: Train loss:  0.27352, Train acc:  90.93%\n",
            "\t Valid loss:  0.04261, Valid acc:  99.54%\n",
            "\t Test acc:  92.97%\n",
            "Epoch 3: Train loss:  0.12836, Train acc:  95.98%\n",
            "\t Valid loss:  0.01614, Valid acc:  99.80%\n",
            "\t Test acc:  93.75%\n",
            "Epoch 4: Train loss:  0.08105, Train acc:  97.50%\n",
            "\t Valid loss:  0.00493, Valid acc: 100.00%\n",
            "\t Test acc:  95.01%\n",
            "Epoch 5: Train loss:  0.06203, Train acc:  98.12%\n",
            "\t Valid loss:  0.00346, Valid acc: 100.00%\n",
            "\t Test acc:  94.98%\n",
            "Epoch 6: Train loss:  0.05083, Train acc:  98.60%\n",
            "\t Valid loss:  0.00220, Valid acc: 100.00%\n",
            "\t Test acc:  95.62%\n",
            "Epoch 7: Train loss:  0.04705, Train acc:  98.59%\n",
            "\t Valid loss:  0.00186, Valid acc: 100.00%\n",
            "\t Test acc:  96.22%\n",
            "Epoch 8: Train loss:  0.04230, Train acc:  98.79%\n",
            "\t Valid loss:  0.00157, Valid acc: 100.00%\n",
            "\t Test acc:  96.10%\n",
            "Epoch 9: Train loss:  0.04068, Train acc:  98.84%\n",
            "\t Valid loss:  0.00139, Valid acc: 100.00%\n",
            "\t Test acc:  95.79%\n",
            "Epoch 10: Train loss:  0.03801, Train acc:  98.94%\n",
            "\t Valid loss:  0.00131, Valid acc: 100.00%\n",
            "\t Test acc:  95.97%\n",
            "Epoch 11: Train loss:  0.03815, Train acc:  98.88%\n",
            "\t Valid loss:  0.00127, Valid acc: 100.00%\n",
            "\t Test acc:  96.04%\n",
            "Epoch 12: Train loss:  0.03801, Train acc:  98.95%\n",
            "\t Valid loss:  0.00124, Valid acc: 100.00%\n",
            "\t Test acc:  95.89%\n",
            "Epoch 13: Train loss:  0.03591, Train acc:  98.92%\n",
            "\t Valid loss:  0.00119, Valid acc: 100.00%\n",
            "\t Test acc:  95.84%\n",
            "Epoch 14: Train loss:  0.03758, Train acc:  98.88%\n",
            "\t Valid loss:  0.00116, Valid acc: 100.00%\n",
            "\t Test acc:  95.90%\n",
            "Epoch 15: Train loss:  0.03642, Train acc:  99.02%\n",
            "\t Valid loss:  0.00114, Valid acc: 100.00%\n",
            "\t Test acc:  95.96%\n"
          ]
        }
      ]
    },
    {
      "cell_type": "markdown",
      "source": [
        "# **Evaluate the trained model on test data**"
      ],
      "metadata": {
        "id": "T2PX6jBFvuRI"
      }
    },
    {
      "cell_type": "code",
      "source": [
        "test(model, device, dl_test, loss_fn)"
      ],
      "metadata": {
        "colab": {
          "base_uri": "https://localhost:8080/"
        },
        "id": "CYWiAOF5tcfx",
        "outputId": "7ba3723f-e17f-457e-ea61-d11688973570"
      },
      "execution_count": null,
      "outputs": [
        {
          "output_type": "stream",
          "name": "stdout",
          "text": [
            "\t Test acc:  95.96%\n"
          ]
        }
      ]
    },
    {
      "cell_type": "markdown",
      "source": [
        "# **Reference**\n",
        "- https://github.com/pytorch/examples/blob/main/mnist/main.py\n",
        "- https://colab.research.google.com/drive/10W_e4U7nmN9ON4MsivRFIeHv67tH6wBL?usp=sharing&fbclid=IwAR26vlAGxuaVOXv6NfG3Aln4j-HPnHkOLzk1878rHESGd4pJtQMdI8A_sOw#scrollTo=jt_qnYd1ZO_i"
      ],
      "metadata": {
        "id": "mjTLf9Dl9D7a"
      }
    },
    {
      "cell_type": "markdown",
      "source": [
        "# **สมาชิกในกลุ่ม**\n",
        "- นายคมสัน ทรวงแก้ว ุ630610720\n",
        "- นายเทวฤทธิ์ สมฤทธิ์ 630610731\n",
        "- นายนัฐพงษ์ บุญสละ 630610744"
      ],
      "metadata": {
        "id": "i-GoXjIA9Kk6"
      }
    }
  ]
}